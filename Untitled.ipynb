{
 "cells": [
  {
   "cell_type": "code",
   "execution_count": 5,
   "id": "03b4762d",
   "metadata": {},
   "outputs": [],
   "source": [
    "import pandas as pd\n",
    "import numpy as np\n",
    "\n",
    "# Load data from the Excel file\n",
    "data = pd.read_csv('./int401-assignment/data.csv')\n",
    "\n",
    "# Assuming 'X' is the feature data and 'y' is the labels\n",
    "X = data.iloc[:, :-1].values  # all columns except the last one\n",
    "y = data.iloc[:, -1].values   # the last column\n",
    "\n",
    "# 1. Augment the feature vectors\n",
    "X_augmented = np.hstack((X, np.ones((X.shape[0], 1))))\n",
    "\n",
    "# 2. Scale the attribute values\n",
    "X_min = X_augmented.min(axis=0)\n",
    "X_max = X_augmented.max(axis=0)\n",
    "X_scaled = 2 * (X_augmented - X_min) / (X_max - X_min + 1e-6) - 1\n",
    "\n",
    "# # 3. Convert labels into one-hot encoded vectors\n",
    "# K = len(np.unique(y))  # number of unique classes\n",
    "# y_one_hot = np.zeros((y.size, K))\n",
    "# for idx, val in enumerate(y):\n",
    "#     y_one_hot[idx, val] = 1\n",
    "\n",
    "# Now X_scaled and y_one_hot can be used for MLP training\n"
   ]
  },
  {
   "cell_type": "code",
   "execution_count": null,
   "id": "34b742e9",
   "metadata": {},
   "outputs": [],
   "source": []
  }
 ],
 "metadata": {
  "kernelspec": {
   "display_name": "Python 3 (ipykernel)",
   "language": "python",
   "name": "python3"
  },
  "language_info": {
   "codemirror_mode": {
    "name": "ipython",
    "version": 3
   },
   "file_extension": ".py",
   "mimetype": "text/x-python",
   "name": "python",
   "nbconvert_exporter": "python",
   "pygments_lexer": "ipython3",
   "version": "3.9.18"
  }
 },
 "nbformat": 4,
 "nbformat_minor": 5
}
